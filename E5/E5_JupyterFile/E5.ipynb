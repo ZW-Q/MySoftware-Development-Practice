{
 "cells": [
  {
   "cell_type": "markdown",
   "id": "fa3cec41",
   "metadata": {},
   "source": [
    "# 实验5——TensorFlow Lite 模型生成\n",
    "\n",
    "链接跳转：[主目录](https://github.com/ZW-Q/MySoftware-Development-Practice)\t[实验1](https://github.com/ZW-Q/MySoftware-Development-Practice/tree/main/E1)\t[实验2](https://github.com/ZW-Q/MySoftware-Development-Practice/tree/main/E2)\t[实验3](https://github.com/ZW-Q/MySoftware-Development-Practice/tree/main/E3)\t[实验4](https://github.com/ZW-Q/MySoftware-Development-Practice/tree/main/E4)\t[实验5](https://github.com/ZW-Q/MySoftware-Development-Practice/tree/main/E5)\n",
    "\n",
    "```\n",
    "实验内容\n",
    "1. 了解机器学习基础\n",
    "2. 了解TensorFlow及TensorFlow Lite\n",
    "3. 按照教程完成基于TensorFlow Lite Model Maker的花卉模型生成\n",
    "4. 使用实验三的应用验证生成的模型\n",
    "5. 将上述完成的Jupyter Notebook在Github上进行共享\n",
    "```"
   ]
  },
  {
   "cell_type": "markdown",
   "id": "a9259775",
   "metadata": {},
   "source": [
    "## 一、使用TensorFlow Lite Model Maker生成图像分类器模型\n",
    "### 1、预备工作\n",
    "首先安装程序运行必备的一些库,这里使用清华源加速"
   ]
  },
  {
   "cell_type": "markdown",
   "id": "1f9461c1",
   "metadata": {},
   "source": [
    "```shell\n",
    "pip install -i https://pypi.tuna.tsinghua.edu.cn/simple/ tflite-model-maker\n",
    "```"
   ]
  },
  {
   "cell_type": "markdown",
   "id": "455062a1",
   "metadata": {},
   "source": [
    "安装报错`ERROR: Cannot uninstall 'llvmlite'. It is a distutils installed project and thus we cannot accurately determine which files belong to it which would lead to only a partial uninstall.`\n",
    "![image.png](./images/image4.png)"
   ]
  },
  {
   "cell_type": "markdown",
   "id": "12269353",
   "metadata": {},
   "source": [
    "**解决方案：**\n",
    "①进入`E:\\Anaconda3\\Lib\\site-packages`找到llvmlite直接删除\n",
    "![image](./images/image5.png)\n",
    "②打开Anaconda的Environments搜索llvmlite进行remove\n",
    "![image](./images/image6.png)\n",
    "③重新install即可"
   ]
  },
  {
   "cell_type": "markdown",
   "id": "b59e013d",
   "metadata": {},
   "source": [
    "```shell\n",
    "pip install -i https://pypi.tuna.tsinghua.edu.cn/simple/ conda-repo-cli==1.0.4\n",
    "```"
   ]
  },
  {
   "cell_type": "markdown",
   "id": "7bfc6fb7",
   "metadata": {},
   "source": [
    "![image.png](./images/image2.png)"
   ]
  },
  {
   "cell_type": "markdown",
   "id": "af316e3a",
   "metadata": {},
   "source": [
    "```shell\n",
    "pip install -i https://pypi.tuna.tsinghua.edu.cn/simple/ anaconda-project==0.10.1\n",
    "```"
   ]
  },
  {
   "cell_type": "markdown",
   "id": "6231d52e",
   "metadata": {},
   "source": [
    "![image.png](./images/image3.png)"
   ]
  },
  {
   "cell_type": "markdown",
   "id": "e512a0b6",
   "metadata": {},
   "source": [
    "接下来，导入相关的库"
   ]
  },
  {
   "cell_type": "code",
   "execution_count": 1,
   "id": "411b0daa",
   "metadata": {},
   "outputs": [],
   "source": [
    "import os\n",
    "\n",
    "import numpy as np\n",
    "\n",
    "import tensorflow as tf\n",
    "assert tf.__version__.startswith('2')\n",
    "\n",
    "from tflite_model_maker import model_spec\n",
    "from tflite_model_maker import image_classifier\n",
    "from tflite_model_maker.config import ExportFormat\n",
    "from tflite_model_maker.config import QuantizationConfig\n",
    "from tflite_model_maker.image_classifier import DataLoader\n",
    "\n",
    "import matplotlib.pyplot as plt"
   ]
  },
  {
   "cell_type": "markdown",
   "id": "38b5eb49",
   "metadata": {},
   "source": [
    "### 2、模型训练\n",
    "#### ①获取数据\n",
    "本实验先从较小的数据集开始训练，当然越多的数据，模型精度更高。这里从`storage.googleapis.com`中下载了本实验所需要的数据集。`image_path`可以定制，默认是在用户目录的`.keras\\datasets`中。"
   ]
  },
  {
   "cell_type": "code",
   "execution_count": 2,
   "id": "52efa6e0",
   "metadata": {},
   "outputs": [],
   "source": [
    "image_path = tf.keras.utils.get_file(\n",
    "      'flower_photos.tgz',\n",
    "      'https://storage.googleapis.com/download.tensorflow.org/example_images/flower_photos.tgz',\n",
    "      extract=True)\n",
    "image_path = os.path.join(os.path.dirname(image_path), 'flower_photos')"
   ]
  },
  {
   "cell_type": "markdown",
   "id": "7fad46c6",
   "metadata": {},
   "source": [
    "#### ②运行示例\n",
    "**第一步：加载数据集，并将数据集分为训练数据和测试数据。**"
   ]
  },
  {
   "cell_type": "code",
   "execution_count": 3,
   "id": "ad5d4939",
   "metadata": {},
   "outputs": [
    {
     "name": "stdout",
     "output_type": "stream",
     "text": [
      "INFO:tensorflow:Load image with size: 3670, num_label: 5, labels: daisy, dandelion, roses, sunflowers, tulips.\n",
      "3303\n",
      "367\n"
     ]
    }
   ],
   "source": [
    "data = DataLoader.from_folder(image_path)\n",
    "train_data, test_data = data.split(0.9)\n",
    "print(train_data.size)\n",
    "print(test_data.size)"
   ]
  },
  {
   "cell_type": "markdown",
   "id": "609f87f3",
   "metadata": {},
   "source": [
    "**第二步：训练Tensorflow模型**"
   ]
  },
  {
   "cell_type": "code",
   "execution_count": 4,
   "id": "46916274",
   "metadata": {
    "scrolled": false
   },
   "outputs": [
    {
     "name": "stdout",
     "output_type": "stream",
     "text": [
      "INFO:tensorflow:Retraining the models...\n",
      "Model: \"sequential\"\n",
      "_________________________________________________________________\n",
      " Layer (type)                Output Shape              Param #   \n",
      "=================================================================\n",
      " hub_keras_layer_v1v2 (HubKe  (None, 1280)             3413024   \n",
      " rasLayerV1V2)                                                   \n",
      "                                                                 \n",
      " dropout (Dropout)           (None, 1280)              0         \n",
      "                                                                 \n",
      " dense (Dense)               (None, 5)                 6405      \n",
      "                                                                 \n",
      "=================================================================\n",
      "Total params: 3,419,429\n",
      "Trainable params: 6,405\n",
      "Non-trainable params: 3,413,024\n",
      "_________________________________________________________________\n",
      "None\n",
      "Epoch 1/5\n"
     ]
    },
    {
     "name": "stderr",
     "output_type": "stream",
     "text": [
      "E:\\Anaconda3\\lib\\site-packages\\keras\\optimizers\\optimizer_v2\\gradient_descent.py:108: UserWarning: The `lr` argument is deprecated, use `learning_rate` instead.\n",
      "  super(SGD, self).__init__(name, **kwargs)\n"
     ]
    },
    {
     "name": "stdout",
     "output_type": "stream",
     "text": [
      "103/103 [==============================] - 62s 582ms/step - loss: 0.8861 - accuracy: 0.7609\n",
      "Epoch 2/5\n",
      "103/103 [==============================] - 61s 587ms/step - loss: 0.6605 - accuracy: 0.8908\n",
      "Epoch 3/5\n",
      "103/103 [==============================] - 79s 771ms/step - loss: 0.6231 - accuracy: 0.9135\n",
      "Epoch 4/5\n",
      "103/103 [==============================] - 64s 617ms/step - loss: 0.6060 - accuracy: 0.9235\n",
      "Epoch 5/5\n",
      "103/103 [==============================] - 60s 578ms/step - loss: 0.5943 - accuracy: 0.9320\n"
     ]
    }
   ],
   "source": [
    "inception_v3_spec = image_classifier.ModelSpec(uri='D:\\Workspace\\JupyterNotebookFiles\\E5\\efficientnet_lite0_feature-vector_2')\n",
    "# inception_v3_spec = image_classifier.ModelSpec(uri='https://storage.googleapis.com/tfhub-modules/tensorflow/efficientnet/lite0/feature-vector/2.tar.gz')\n",
    "inception_v3_spec.input_image_shape = [240, 240]\n",
    "model = image_classifier.create(train_data, model_spec=inception_v3_spec)\n",
    "# 使用默认模型\n",
    "# model = image_classifier.create(train_data)"
   ]
  },
  {
   "cell_type": "markdown",
   "id": "93446ef8",
   "metadata": {},
   "source": [
    "因为某些原因，运行以上代码可能会报错`TimeoutError:[WinError 10060]`，此时使用代理或者切换网络都无济于事\n",
    "\n",
    "**解决方案**\n",
    "1. 进入目录：`E:\\Anaconda3\\Lib\\site-packages\\tensorflow_examples\\lite\\model_maker\\core\\task\\model_spec`\n",
    "\n",
    "   查看`__init__.py`文件\n",
    "\n",
    "   ![image](./images/image7.png)\n",
    "\n",
    "   可知代码`model = image_classifier.create(train_data)`如果不指定模型，系统默认使用的模型为`efficientnet_lite0`模型，打开`image_spec.py`文件，得知该模型的地址为https://tfhub.dev/tensorflow/efficientnet/lite0/feature-vector/2\n",
    "\n",
    "   ![image](./images/image8.png)\n",
    "\n",
    "2. 进入该链接https://tfhub.dev/tensorflow/efficientnet/lite0/feature-vector/2 下载对应模型\n",
    "\n",
    "   ![image](./images/image9.png)\n",
    "\n",
    "3. 更改代码，使用该模型进行`create`即可\n",
    "   ```python\n",
    "   # 使用默认模型，不推荐，出现网络问题\n",
    "   # model = image_classifier.create(train_data)\n",
    "   \n",
    "   # 模型下载到本地，推荐\n",
    "   inception_v3_spec = image_classifier.ModelSpec(uri='D:\\Workspace\\JupyterNotebookFiles\\E5\\efficientnet_lite0_feature-vector_2')\n",
    "   \n",
    "   # 使用在线模型，推荐\n",
    "   # inception_v3_spec = image_classifier.ModelSpec(uri='https://storage.googleapis.com/tfhub-modules/tensorflow/efficientnet/lite0/feature-vector/2.tar.gz')\n",
    "   \n",
    "   inception_v3_spec.input_image_shape = [240, 240]\n",
    "   model = image_classifier.create(train_data, model_spec=inception_v3_spec)\n",
    "   ```"
   ]
  },
  {
   "cell_type": "markdown",
   "id": "996ff14f",
   "metadata": {},
   "source": [
    "**第三步：评估模型**"
   ]
  },
  {
   "cell_type": "code",
   "execution_count": 5,
   "id": "54d4f96f",
   "metadata": {},
   "outputs": [
    {
     "name": "stdout",
     "output_type": "stream",
     "text": [
      "12/12 [==============================] - 8s 546ms/step - loss: 0.5981 - accuracy: 0.9210\n"
     ]
    }
   ],
   "source": [
    "loss, accuracy = model.evaluate(test_data)"
   ]
  },
  {
   "cell_type": "markdown",
   "id": "574398ee",
   "metadata": {},
   "source": [
    "**第四步，导出Tensorflow Lite模型**\n",
    "\n",
    "这里导出的Tensorflow Lite模型包含了元数据(metadata),其能够提供标准的模型描述。导出的模型存放在Jupyter Notebook当前的工作目录中。"
   ]
  },
  {
   "cell_type": "code",
   "execution_count": 6,
   "id": "b72be5fa",
   "metadata": {},
   "outputs": [
    {
     "name": "stdout",
     "output_type": "stream",
     "text": [
      "INFO:tensorflow:Assets written to: C:\\Users\\qiaoqiao\\AppData\\Local\\Temp\\tmpnfwgcyad\\assets\n"
     ]
    },
    {
     "name": "stderr",
     "output_type": "stream",
     "text": [
      "E:\\Anaconda3\\lib\\site-packages\\tensorflow\\lite\\python\\convert.py:766: UserWarning: Statistics for quantized inputs were expected, but not specified; continuing anyway.\n",
      "  warnings.warn(\"Statistics for quantized inputs were expected, but not \"\n"
     ]
    },
    {
     "name": "stdout",
     "output_type": "stream",
     "text": [
      "INFO:tensorflow:Label file is inside the TFLite model with metadata.\n"
     ]
    },
    {
     "name": "stderr",
     "output_type": "stream",
     "text": [
      "INFO:tensorflow:Label file is inside the TFLite model with metadata.\n"
     ]
    },
    {
     "name": "stdout",
     "output_type": "stream",
     "text": [
      "INFO:tensorflow:Saving labels in C:\\Users\\qiaoqiao\\AppData\\Local\\Temp\\tmpihf96qy5\\labels.txt\n"
     ]
    },
    {
     "name": "stderr",
     "output_type": "stream",
     "text": [
      "INFO:tensorflow:Saving labels in C:\\Users\\qiaoqiao\\AppData\\Local\\Temp\\tmpihf96qy5\\labels.txt\n"
     ]
    },
    {
     "name": "stdout",
     "output_type": "stream",
     "text": [
      "INFO:tensorflow:TensorFlow Lite model exported successfully: .\\model.tflite\n"
     ]
    },
    {
     "name": "stderr",
     "output_type": "stream",
     "text": [
      "INFO:tensorflow:TensorFlow Lite model exported successfully: .\\model.tflite\n"
     ]
    }
   ],
   "source": [
    "model.export(export_dir='.')"
   ]
  },
  {
   "cell_type": "markdown",
   "id": "ca40e03d",
   "metadata": {},
   "source": [
    "![image](./images/image10.png)"
   ]
  },
  {
   "cell_type": "markdown",
   "id": "61ec04fe",
   "metadata": {},
   "source": [
    "## 二、导入项目TFL_Classify\n",
    "### 1、修改模型名\n",
    "将导出的模型名修改为`FlowerModel.tflite`\n",
    "### 2、导入项目\n",
    "选择`ml->New->Other->TensorFlow Lite Model`\n",
    "![image](./images/image11.png)\n",
    "输入模型路径名即可\n",
    "![image](./images/image12.png)\n",
    "出现如下界面即导入成功\n",
    "![image](./images/image13.png)"
   ]
  }
 ],
 "metadata": {
  "kernelspec": {
   "display_name": "Python 3 (ipykernel)",
   "language": "python",
   "name": "python3"
  },
  "language_info": {
   "codemirror_mode": {
    "name": "ipython",
    "version": 3
   },
   "file_extension": ".py",
   "mimetype": "text/x-python",
   "name": "python",
   "nbconvert_exporter": "python",
   "pygments_lexer": "ipython3",
   "version": "3.9.7"
  }
 },
 "nbformat": 4,
 "nbformat_minor": 5
}
